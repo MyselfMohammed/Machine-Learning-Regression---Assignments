{
 "cells": [
  {
   "cell_type": "code",
   "execution_count": 3,
   "id": "018251ff-9154-4bdd-a160-c395697eb6bc",
   "metadata": {},
   "outputs": [],
   "source": [
    "import pickle\n",
    "import pandas as pd"
   ]
  },
  {
   "cell_type": "code",
   "execution_count": 9,
   "id": "d49c668f-954e-4a93-b273-087e3b4083f4",
   "metadata": {},
   "outputs": [],
   "source": [
    "dataset = pd.read_csv(\"50_Startups.csv\")\n",
    "\n",
    "dataset = pd.get_dummies(dataset,dtype=int, drop_first=True)\n",
    "\n",
    "independent = dataset[['R&D Spend', 'Administration', 'Marketing Spend','State_Florida', 'State_New York']]\n",
    "\n",
    "dependent = dataset[['Profit']]\n",
    "\n",
    "#Splitting Train and Test Set\n",
    "from sklearn.model_selection import train_test_split\n",
    "X_train,X_test,Y_train,Y_test=train_test_split(independent, dependent, test_size=0.30, random_state=0)"
   ]
  },
  {
   "cell_type": "code",
   "execution_count": 11,
   "id": "369b2124-d19e-4a56-9d1d-3056bfd38a1b",
   "metadata": {},
   "outputs": [],
   "source": [
    "from sklearn.preprocessing import StandardScaler\n",
    "sc = StandardScaler()\n",
    "\n",
    "#Here the fit.transform function Standardize the Undefined data to Defined Data and make it to be saved in X_train\n",
    "X_train = sc.fit_transform(X_train)\n",
    "\n",
    "#Here the transform function uses the process occurred in fit.transform function for the input X_test and make it to be saved in X_train\n",
    "X_test = sc.transform(X_test)"
   ]
  },
  {
   "cell_type": "code",
   "execution_count": 13,
   "id": "e91046c1-435d-4917-af93-92ffc1ff00c4",
   "metadata": {},
   "outputs": [
    {
     "name": "stdin",
     "output_type": "stream",
     "text": [
      "RandD_Spend: 1300\n",
      "Administration: 12000\n",
      "Marketing_Spend: 4000\n",
      "State_Florida Yes 0 or 1: 0\n",
      "State_New_York Yes 0 or 1: 1\n"
     ]
    }
   ],
   "source": [
    "RandD_Spend = float(input(\"RandD_Spend:\"))\n",
    "Administration = float(input(\"Administration:\"))\n",
    "Marketing_Spend = float(input(\"Marketing_Spend:\"))\n",
    "State_Florida = float(input(\"State_Florida Yes 0 or 1:\"))\n",
    "State_New_York = float(input(\"State_New_York Yes 0 or 1:\"))"
   ]
  },
  {
   "cell_type": "code",
   "execution_count": 15,
   "id": "f165f0ca-c004-485f-ae14-b7fba2ab9818",
   "metadata": {},
   "outputs": [
    {
     "name": "stderr",
     "output_type": "stream",
     "text": [
      "C:\\Anaconda\\Lib\\site-packages\\sklearn\\base.py:493: UserWarning: X does not have valid feature names, but StandardScaler was fitted with feature names\n",
      "  warnings.warn(\n"
     ]
    },
    {
     "data": {
      "text/plain": [
       "array([[-1.46755405, -4.33835385, -1.50744257, -0.5       ,  1.30088727]])"
      ]
     },
     "execution_count": 15,
     "metadata": {},
     "output_type": "execute_result"
    }
   ],
   "source": [
    "preprocessed_input = sc.transform([[RandD_Spend, Administration, Marketing_Spend, State_Florida, State_New_York]])\n",
    "preprocessed_input"
   ]
  },
  {
   "cell_type": "code",
   "execution_count": 17,
   "id": "200d679b-cd7f-4a9b-bb21-d34c6667554c",
   "metadata": {},
   "outputs": [
    {
     "data": {
      "text/plain": [
       "array([107679.41510409])"
      ]
     },
     "execution_count": 17,
     "metadata": {},
     "output_type": "execute_result"
    }
   ],
   "source": [
    "# Load the Saved Model and check the same to send it for Phase-02 (Deployment)\n",
    "# # Keyword - rb refers to \"read binary\"\n",
    "\n",
    "loaded_model=pickle.load(open(\"finalized_model_SVM_Preprocessed_Input.sav\",'rb'))\n",
    "result = loaded_model.predict(preprocessed_input) \n",
    "result"
   ]
  },
  {
   "cell_type": "code",
   "execution_count": null,
   "id": "b1c46495-95b7-413b-ac6f-89b059fd7252",
   "metadata": {},
   "outputs": [],
   "source": []
  }
 ],
 "metadata": {
  "kernelspec": {
   "display_name": "Python 3 (ipykernel)",
   "language": "python",
   "name": "python3"
  },
  "language_info": {
   "codemirror_mode": {
    "name": "ipython",
    "version": 3
   },
   "file_extension": ".py",
   "mimetype": "text/x-python",
   "name": "python",
   "nbconvert_exporter": "python",
   "pygments_lexer": "ipython3",
   "version": "3.12.4"
  }
 },
 "nbformat": 4,
 "nbformat_minor": 5
}
