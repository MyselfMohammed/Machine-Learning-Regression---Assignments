{
 "cells": [
  {
   "cell_type": "code",
   "execution_count": 1,
   "id": "018251ff-9154-4bdd-a160-c395697eb6bc",
   "metadata": {},
   "outputs": [],
   "source": [
    "import pickle"
   ]
  },
  {
   "cell_type": "code",
   "execution_count": 3,
   "id": "200d679b-cd7f-4a9b-bb21-d34c6667554c",
   "metadata": {},
   "outputs": [
    {
     "name": "stderr",
     "output_type": "stream",
     "text": [
      "C:\\Anaconda\\Lib\\site-packages\\sklearn\\base.py:493: UserWarning: X does not have valid feature names, but RandomForestRegressor was fitted with feature names\n",
      "  warnings.warn(\n"
     ]
    },
    {
     "data": {
      "text/plain": [
       "array([4005.2858198])"
      ]
     },
     "execution_count": 3,
     "metadata": {},
     "output_type": "execute_result"
    }
   ],
   "source": [
    "# Load the Saved Model and check the same to send it for Phase-02 (Deployment)\n",
    "# # Keyword - rb refers to \"read binary\"\n",
    "\n",
    "loaded_model=pickle.load(open(\"finalized_model_Random_Forest_Overall_Assignment.sav\",'rb'))\n",
    "result = loaded_model.predict([[20,30,1,1,0]]) \n",
    "result"
   ]
  },
  {
   "cell_type": "code",
   "execution_count": null,
   "id": "fd9e292a-5e9d-4a5f-8c20-f06d0d00e708",
   "metadata": {},
   "outputs": [],
   "source": []
  }
 ],
 "metadata": {
  "kernelspec": {
   "display_name": "Python 3 (ipykernel)",
   "language": "python",
   "name": "python3"
  },
  "language_info": {
   "codemirror_mode": {
    "name": "ipython",
    "version": 3
   },
   "file_extension": ".py",
   "mimetype": "text/x-python",
   "name": "python",
   "nbconvert_exporter": "python",
   "pygments_lexer": "ipython3",
   "version": "3.12.4"
  }
 },
 "nbformat": 4,
 "nbformat_minor": 5
}
