{
 "cells": [
  {
   "cell_type": "code",
   "execution_count": 21,
   "id": "018251ff-9154-4bdd-a160-c395697eb6bc",
   "metadata": {},
   "outputs": [],
   "source": [
    "import pickle"
   ]
  },
  {
   "cell_type": "code",
   "execution_count": 23,
   "id": "a69413bf-abac-4d4c-8267-d241cb80d223",
   "metadata": {},
   "outputs": [
    {
     "name": "stdin",
     "output_type": "stream",
     "text": [
      "Age: 20\n",
      "BMI: 40\n",
      "Children: 0\n",
      "Gender Male 0 or 1: 1\n",
      "Smoker Yes 0 or 1: 0\n"
     ]
    }
   ],
   "source": [
    "age_input = float(input(\"Age:\"))\n",
    "bmi_input = float(input(\"BMI:\"))\n",
    "children_input = float(input(\"Children:\"))\n",
    "gender_male_input = float(input(\"Gender Male 0 or 1:\"))\n",
    "smoker_yes_input = float(input(\"Smoker Yes 0 or 1:\"))"
   ]
  },
  {
   "cell_type": "code",
   "execution_count": 25,
   "id": "200d679b-cd7f-4a9b-bb21-d34c6667554c",
   "metadata": {},
   "outputs": [
    {
     "data": {
      "text/plain": [
       "array([11576.13])"
      ]
     },
     "execution_count": 25,
     "metadata": {},
     "output_type": "execute_result"
    }
   ],
   "source": [
    "# Load the Saved Model and check the same to send it for Phase-02 (Deployment)\n",
    "# # Keyword - rb refers to \"read binary\"\n",
    "\n",
    "loaded_model=pickle.load(open(\"finalized_model_DecisionTreeRegressor_GridSearch_Assignment.sav\",'rb'))\n",
    "result = loaded_model.predict([[age_input, bmi_input, children_input, gender_male_input, smoker_yes_input]]) \n",
    "result"
   ]
  },
  {
   "cell_type": "code",
   "execution_count": null,
   "id": "a5085b29-a708-4291-86a1-762788826eff",
   "metadata": {},
   "outputs": [],
   "source": []
  }
 ],
 "metadata": {
  "kernelspec": {
   "display_name": "Python 3 (ipykernel)",
   "language": "python",
   "name": "python3"
  },
  "language_info": {
   "codemirror_mode": {
    "name": "ipython",
    "version": 3
   },
   "file_extension": ".py",
   "mimetype": "text/x-python",
   "name": "python",
   "nbconvert_exporter": "python",
   "pygments_lexer": "ipython3",
   "version": "3.12.4"
  }
 },
 "nbformat": 4,
 "nbformat_minor": 5
}
