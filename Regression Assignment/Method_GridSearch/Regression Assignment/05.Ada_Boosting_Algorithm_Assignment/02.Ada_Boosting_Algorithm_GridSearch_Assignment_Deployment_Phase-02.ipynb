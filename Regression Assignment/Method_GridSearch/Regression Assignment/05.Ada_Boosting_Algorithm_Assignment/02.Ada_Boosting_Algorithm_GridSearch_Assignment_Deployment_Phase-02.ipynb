{
 "cells": [
  {
   "cell_type": "code",
   "execution_count": 1,
   "id": "018251ff-9154-4bdd-a160-c395697eb6bc",
   "metadata": {},
   "outputs": [],
   "source": [
    "import pickle"
   ]
  },
  {
   "cell_type": "code",
   "execution_count": 3,
   "id": "ca046f07-6c5d-4014-9e59-a28ceb723fed",
   "metadata": {},
   "outputs": [
    {
     "name": "stdin",
     "output_type": "stream",
     "text": [
      "Age: 30\n",
      "BMI: 40\n",
      "Children: 1\n",
      "Gender Male 0 or 1: 1\n",
      "Smoker Yes 0 or 1: 0\n"
     ]
    }
   ],
   "source": [
    "age_input = float(input(\"Age:\"))\n",
    "bmi_input = float(input(\"BMI:\"))\n",
    "children_input = float(input(\"Children:\"))\n",
    "gender_male_input = float(input(\"Gender Male 0 or 1:\"))\n",
    "smoker_yes_input = float(input(\"Smoker Yes 0 or 1:\"))"
   ]
  },
  {
   "cell_type": "code",
   "execution_count": 5,
   "id": "200d679b-cd7f-4a9b-bb21-d34c6667554c",
   "metadata": {},
   "outputs": [
    {
     "name": "stderr",
     "output_type": "stream",
     "text": [
      "C:\\Anaconda\\Lib\\site-packages\\sklearn\\base.py:493: UserWarning: X does not have valid feature names, but AdaBoostRegressor was fitted with feature names\n",
      "  warnings.warn(\n"
     ]
    },
    {
     "data": {
      "text/plain": [
       "array([9680.13552338])"
      ]
     },
     "execution_count": 5,
     "metadata": {},
     "output_type": "execute_result"
    }
   ],
   "source": [
    "# Load the Saved Model and check the same to send it for Phase-02 (Deployment)\n",
    "# # Keyword - rb refers to \"read binary\"\n",
    "\n",
    "loaded_model=pickle.load(open(\"finalized_model_Ada_Boosting_Algorithm_GridSearch_Assignment.sav\",'rb'))\n",
    "result = loaded_model.predict([[age_input, bmi_input, children_input, gender_male_input, smoker_yes_input]]) \n",
    "result"
   ]
  },
  {
   "cell_type": "code",
   "execution_count": null,
   "id": "b1c46495-95b7-413b-ac6f-89b059fd7252",
   "metadata": {},
   "outputs": [],
   "source": []
  }
 ],
 "metadata": {
  "kernelspec": {
   "display_name": "Python 3 (ipykernel)",
   "language": "python",
   "name": "python3"
  },
  "language_info": {
   "codemirror_mode": {
    "name": "ipython",
    "version": 3
   },
   "file_extension": ".py",
   "mimetype": "text/x-python",
   "name": "python",
   "nbconvert_exporter": "python",
   "pygments_lexer": "ipython3",
   "version": "3.12.4"
  }
 },
 "nbformat": 4,
 "nbformat_minor": 5
}
