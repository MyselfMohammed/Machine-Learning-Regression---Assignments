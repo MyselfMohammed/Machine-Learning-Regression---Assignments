{
 "cells": [
  {
   "cell_type": "code",
   "execution_count": 3,
   "id": "018251ff-9154-4bdd-a160-c395697eb6bc",
   "metadata": {},
   "outputs": [],
   "source": [
    "import pickle"
   ]
  },
  {
   "cell_type": "code",
   "execution_count": 1,
   "id": "200d679b-cd7f-4a9b-bb21-d34c6667554c",
   "metadata": {},
   "outputs": [
    {
     "ename": "NameError",
     "evalue": "name 'pickle' is not defined",
     "output_type": "error",
     "traceback": [
      "\u001b[1;31m---------------------------------------------------------------------------\u001b[0m",
      "\u001b[1;31mNameError\u001b[0m                                 Traceback (most recent call last)",
      "Cell \u001b[1;32mIn[1], line 3\u001b[0m\n\u001b[0;32m      1\u001b[0m \u001b[38;5;66;03m# The Deployment Phase ipython file should also be in same path of 02.Multiple_Linear_Regression to avoid the Error - File Not Found\u001b[39;00m\n\u001b[1;32m----> 3\u001b[0m loaded_model\u001b[38;5;241m=\u001b[39mpickle\u001b[38;5;241m.\u001b[39mload(\u001b[38;5;28mopen\u001b[39m(\u001b[38;5;124m\"\u001b[39m\u001b[38;5;124mfinalized_model_multiple_linear.sav\u001b[39m\u001b[38;5;124m\"\u001b[39m,\u001b[38;5;124m'\u001b[39m\u001b[38;5;124mrb\u001b[39m\u001b[38;5;124m'\u001b[39m))\n\u001b[0;32m      4\u001b[0m result \u001b[38;5;241m=\u001b[39m loaded_model\u001b[38;5;241m.\u001b[39mpredict([[\u001b[38;5;241m1234\u001b[39m,\u001b[38;5;241m345\u001b[39m,\u001b[38;5;241m4565\u001b[39m,\u001b[38;5;241m1\u001b[39m,\u001b[38;5;241m0\u001b[39m]]) \n\u001b[0;32m      5\u001b[0m result\n",
      "\u001b[1;31mNameError\u001b[0m: name 'pickle' is not defined"
     ]
    }
   ],
   "source": [
    "# The Deployment Phase ipython file should also be in same path of 02.Multiple_Linear_Regression to avoid the Error - File Not Found\n",
    "\n",
    "loaded_model=pickle.load(open(\"finalized_model_multiple_linear.sav\",'rb'))\n",
    "result = loaded_model.predict([[1234,345,4565,1,0]]) \n",
    "result\n",
    "\n",
    "# if the given Value is Zero, then the output value should always be the Value of Bais. "
   ]
  },
  {
   "cell_type": "code",
   "execution_count": null,
   "id": "9c1f3bc2-db37-43ce-8ee1-0103cc90a6fd",
   "metadata": {},
   "outputs": [],
   "source": []
  },
  {
   "cell_type": "code",
   "execution_count": null,
   "id": "7a22e8fb-32df-4ab1-b2d4-e312f6e73b2e",
   "metadata": {},
   "outputs": [],
   "source": []
  }
 ],
 "metadata": {
  "kernelspec": {
   "display_name": "Python 3 (ipykernel)",
   "language": "python",
   "name": "python3"
  },
  "language_info": {
   "codemirror_mode": {
    "name": "ipython",
    "version": 3
   },
   "file_extension": ".py",
   "mimetype": "text/x-python",
   "name": "python",
   "nbconvert_exporter": "python",
   "pygments_lexer": "ipython3",
   "version": "3.12.4"
  }
 },
 "nbformat": 4,
 "nbformat_minor": 5
}
