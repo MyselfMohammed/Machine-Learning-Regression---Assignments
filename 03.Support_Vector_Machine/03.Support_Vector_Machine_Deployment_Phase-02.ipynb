{
 "cells": [
  {
   "cell_type": "code",
   "execution_count": 7,
   "id": "018251ff-9154-4bdd-a160-c395697eb6bc",
   "metadata": {},
   "outputs": [],
   "source": [
    "import pickle"
   ]
  },
  {
   "cell_type": "code",
   "execution_count": 11,
   "id": "200d679b-cd7f-4a9b-bb21-d34c6667554c",
   "metadata": {},
   "outputs": [
    {
     "data": {
      "text/plain": [
       "array([4.15812528e+08])"
      ]
     },
     "execution_count": 11,
     "metadata": {},
     "output_type": "execute_result"
    }
   ],
   "source": [
    "# The Deployment Phase ipython file should also be in same path of 02.Multiple_Linear_Regression to avoid the Error - File Not Found\n",
    "\n",
    "loaded_model=pickle.load(open(\"finalized_model_SVM_Regression.sav\",'rb'))\n",
    "result = loaded_model.predict([[10000,20000,3000,1,0]]) \n",
    "result\n",
    "\n",
    "# if the given Value is Zero, then the output value should always be the Value of Bais. "
   ]
  },
  {
   "cell_type": "code",
   "execution_count": null,
   "id": "9c1f3bc2-db37-43ce-8ee1-0103cc90a6fd",
   "metadata": {},
   "outputs": [],
   "source": []
  },
  {
   "cell_type": "code",
   "execution_count": null,
   "id": "7a22e8fb-32df-4ab1-b2d4-e312f6e73b2e",
   "metadata": {},
   "outputs": [],
   "source": []
  }
 ],
 "metadata": {
  "kernelspec": {
   "display_name": "Python 3 (ipykernel)",
   "language": "python",
   "name": "python3"
  },
  "language_info": {
   "codemirror_mode": {
    "name": "ipython",
    "version": 3
   },
   "file_extension": ".py",
   "mimetype": "text/x-python",
   "name": "python",
   "nbconvert_exporter": "python",
   "pygments_lexer": "ipython3",
   "version": "3.12.4"
  }
 },
 "nbformat": 4,
 "nbformat_minor": 5
}
